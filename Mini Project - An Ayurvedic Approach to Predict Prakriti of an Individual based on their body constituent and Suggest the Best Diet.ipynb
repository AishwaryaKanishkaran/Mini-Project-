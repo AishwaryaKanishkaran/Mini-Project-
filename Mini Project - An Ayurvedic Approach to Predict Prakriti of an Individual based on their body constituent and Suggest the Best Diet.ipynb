{
 "cells": [
  {
   "cell_type": "code",
   "execution_count": 1,
   "metadata": {},
   "outputs": [],
   "source": [
    "import pandas as pd\n",
    "import numpy as np\n",
    "import matplotlib.pyplot as plt\n",
    "import seaborn as sns\n",
    "from sklearn.cluster import KMeans\n",
    "from sklearn import datasets\n",
    "from io import StringIO\n",
    "from sklearn.tree import export_graphviz\n",
    "from sklearn.model_selection import train_test_split\n",
    "from sklearn import tree\n",
    "from sklearn import metrics"
   ]
  },
  {
   "cell_type": "code",
   "execution_count": 2,
   "metadata": {},
   "outputs": [
    {
     "data": {
      "text/html": [
       "<div>\n",
       "<style scoped>\n",
       "    .dataframe tbody tr th:only-of-type {\n",
       "        vertical-align: middle;\n",
       "    }\n",
       "\n",
       "    .dataframe tbody tr th {\n",
       "        vertical-align: top;\n",
       "    }\n",
       "\n",
       "    .dataframe thead th {\n",
       "        text-align: right;\n",
       "    }\n",
       "</style>\n",
       "<table border=\"1\" class=\"dataframe\">\n",
       "  <thead>\n",
       "    <tr style=\"text-align: right;\">\n",
       "      <th></th>\n",
       "      <th>SampleIdx</th>\n",
       "      <th>Gender</th>\n",
       "      <th>bodyBuild_Size</th>\n",
       "      <th>bodyFrame_Breadth</th>\n",
       "      <th>bodyFrame_Length</th>\n",
       "      <th>bodyHair_Color</th>\n",
       "      <th>chest_Breadth</th>\n",
       "      <th>eye_Color</th>\n",
       "      <th>eye_Size</th>\n",
       "      <th>eye_Symmetry</th>\n",
       "      <th>...</th>\n",
       "      <th>teeth_Appearance1</th>\n",
       "      <th>teeth_Appearance2</th>\n",
       "      <th>voice_clear</th>\n",
       "      <th>skin_cracked</th>\n",
       "      <th>skin_freckle</th>\n",
       "      <th>skin_mark</th>\n",
       "      <th>skin_mole</th>\n",
       "      <th>skin_pimple</th>\n",
       "      <th>skin_wrinkled</th>\n",
       "      <th>class</th>\n",
       "    </tr>\n",
       "  </thead>\n",
       "  <tbody>\n",
       "    <tr>\n",
       "      <th>0</th>\n",
       "      <td>1</td>\n",
       "      <td>Male</td>\n",
       "      <td>Weaklydeveloped</td>\n",
       "      <td>Thin/Narrow</td>\n",
       "      <td>Long</td>\n",
       "      <td>Black</td>\n",
       "      <td>Thin/Narrow</td>\n",
       "      <td>DarkBrown</td>\n",
       "      <td>Moderatelydeveloped</td>\n",
       "      <td>Proportionate</td>\n",
       "      <td>...</td>\n",
       "      <td>Non_Brittle/Cracked</td>\n",
       "      <td>Non_Loose</td>\n",
       "      <td>Clear</td>\n",
       "      <td>Non_Cracked</td>\n",
       "      <td>Non_Freckles</td>\n",
       "      <td>Non_Marks</td>\n",
       "      <td>Non_Moles</td>\n",
       "      <td>Pimples</td>\n",
       "      <td>Non_Wrinkled</td>\n",
       "      <td>Vata</td>\n",
       "    </tr>\n",
       "    <tr>\n",
       "      <th>1</th>\n",
       "      <td>2</td>\n",
       "      <td>Male</td>\n",
       "      <td>Welldeveloped</td>\n",
       "      <td>Broad</td>\n",
       "      <td>Long</td>\n",
       "      <td>DarkBrown</td>\n",
       "      <td>Broad</td>\n",
       "      <td>DarkBrown</td>\n",
       "      <td>Moderatelydeveloped</td>\n",
       "      <td>Proportionate</td>\n",
       "      <td>...</td>\n",
       "      <td>Non_Brittle/Cracked</td>\n",
       "      <td>Non_Loose</td>\n",
       "      <td>Clear</td>\n",
       "      <td>Non_Cracked</td>\n",
       "      <td>Non_Freckles</td>\n",
       "      <td>Marks</td>\n",
       "      <td>Non_Moles</td>\n",
       "      <td>Non_Pimples</td>\n",
       "      <td>Non_Wrinkled</td>\n",
       "      <td>Kapha</td>\n",
       "    </tr>\n",
       "    <tr>\n",
       "      <th>2</th>\n",
       "      <td>3</td>\n",
       "      <td>Male</td>\n",
       "      <td>Weaklydeveloped</td>\n",
       "      <td>Thin/Narrow</td>\n",
       "      <td>Long</td>\n",
       "      <td>LightBrown</td>\n",
       "      <td>Thin/Narrow</td>\n",
       "      <td>LightBrown</td>\n",
       "      <td>Weaklydeveloped</td>\n",
       "      <td>Proportionate</td>\n",
       "      <td>...</td>\n",
       "      <td>Non_Brittle/Cracked</td>\n",
       "      <td>Non_Loose</td>\n",
       "      <td>Non_Clear</td>\n",
       "      <td>Cracked</td>\n",
       "      <td>Non_Freckles</td>\n",
       "      <td>Non_Marks</td>\n",
       "      <td>Moles</td>\n",
       "      <td>Pimples</td>\n",
       "      <td>Wrinkled</td>\n",
       "      <td>Vata</td>\n",
       "    </tr>\n",
       "    <tr>\n",
       "      <th>3</th>\n",
       "      <td>4</td>\n",
       "      <td>Male</td>\n",
       "      <td>Weaklydeveloped</td>\n",
       "      <td>Thin/Narrow</td>\n",
       "      <td>Long</td>\n",
       "      <td>Dusky</td>\n",
       "      <td>Thin/Narrow</td>\n",
       "      <td>DarkBrown</td>\n",
       "      <td>Weaklydeveloped</td>\n",
       "      <td>Proportionate</td>\n",
       "      <td>...</td>\n",
       "      <td>Non_Brittle/Cracked</td>\n",
       "      <td>Non_Loose</td>\n",
       "      <td>Clear</td>\n",
       "      <td>Cracked</td>\n",
       "      <td>Non_Freckles</td>\n",
       "      <td>Non_Marks</td>\n",
       "      <td>Non_Moles</td>\n",
       "      <td>Non_Pimples</td>\n",
       "      <td>Wrinkled</td>\n",
       "      <td>Vata</td>\n",
       "    </tr>\n",
       "    <tr>\n",
       "      <th>4</th>\n",
       "      <td>5</td>\n",
       "      <td>Male</td>\n",
       "      <td>Welldeveloped</td>\n",
       "      <td>Broad</td>\n",
       "      <td>Long</td>\n",
       "      <td>Black</td>\n",
       "      <td>Broad</td>\n",
       "      <td>Black</td>\n",
       "      <td>Moderatelydeveloped</td>\n",
       "      <td>Proportionate</td>\n",
       "      <td>...</td>\n",
       "      <td>Non_Brittle/Cracked</td>\n",
       "      <td>Non_Loose</td>\n",
       "      <td>Non_Clear</td>\n",
       "      <td>Non_Cracked</td>\n",
       "      <td>Non_Freckles</td>\n",
       "      <td>Marks</td>\n",
       "      <td>Moles</td>\n",
       "      <td>Non_Pimples</td>\n",
       "      <td>Non_Wrinkled</td>\n",
       "      <td>Kapha</td>\n",
       "    </tr>\n",
       "  </tbody>\n",
       "</table>\n",
       "<p>5 rows × 135 columns</p>\n",
       "</div>"
      ],
      "text/plain": [
       "   SampleIdx Gender   bodyBuild_Size bodyFrame_Breadth bodyFrame_Length  \\\n",
       "0          1   Male  Weaklydeveloped       Thin/Narrow             Long   \n",
       "1          2   Male    Welldeveloped             Broad             Long   \n",
       "2          3   Male  Weaklydeveloped       Thin/Narrow             Long   \n",
       "3          4   Male  Weaklydeveloped       Thin/Narrow             Long   \n",
       "4          5   Male    Welldeveloped             Broad             Long   \n",
       "\n",
       "  bodyHair_Color chest_Breadth   eye_Color             eye_Size  \\\n",
       "0          Black   Thin/Narrow   DarkBrown  Moderatelydeveloped   \n",
       "1      DarkBrown         Broad   DarkBrown  Moderatelydeveloped   \n",
       "2     LightBrown   Thin/Narrow  LightBrown      Weaklydeveloped   \n",
       "3          Dusky   Thin/Narrow   DarkBrown      Weaklydeveloped   \n",
       "4          Black         Broad       Black  Moderatelydeveloped   \n",
       "\n",
       "    eye_Symmetry  ...    teeth_Appearance1 teeth_Appearance2 voice_clear  \\\n",
       "0  Proportionate  ...  Non_Brittle/Cracked         Non_Loose       Clear   \n",
       "1  Proportionate  ...  Non_Brittle/Cracked         Non_Loose       Clear   \n",
       "2  Proportionate  ...  Non_Brittle/Cracked         Non_Loose   Non_Clear   \n",
       "3  Proportionate  ...  Non_Brittle/Cracked         Non_Loose       Clear   \n",
       "4  Proportionate  ...  Non_Brittle/Cracked         Non_Loose   Non_Clear   \n",
       "\n",
       "  skin_cracked  skin_freckle  skin_mark  skin_mole  skin_pimple skin_wrinkled  \\\n",
       "0  Non_Cracked  Non_Freckles  Non_Marks  Non_Moles      Pimples  Non_Wrinkled   \n",
       "1  Non_Cracked  Non_Freckles      Marks  Non_Moles  Non_Pimples  Non_Wrinkled   \n",
       "2      Cracked  Non_Freckles  Non_Marks      Moles      Pimples      Wrinkled   \n",
       "3      Cracked  Non_Freckles  Non_Marks  Non_Moles  Non_Pimples      Wrinkled   \n",
       "4  Non_Cracked  Non_Freckles      Marks      Moles  Non_Pimples  Non_Wrinkled   \n",
       "\n",
       "   class  \n",
       "0   Vata  \n",
       "1  Kapha  \n",
       "2   Vata  \n",
       "3   Vata  \n",
       "4  Kapha  \n",
       "\n",
       "[5 rows x 135 columns]"
      ]
     },
     "execution_count": 2,
     "metadata": {},
     "output_type": "execute_result"
    }
   ],
   "source": [
    "# Load data file\n",
    "bank=pd.read_csv('dataset.csv')\n",
    "bank.head()"
   ]
  },
  {
   "cell_type": "code",
   "execution_count": 11,
   "metadata": {},
   "outputs": [
    {
     "data": {
      "text/plain": [
       "0    0\n",
       "1    1\n",
       "2    0\n",
       "3    0\n",
       "4    1\n",
       "Name: class, dtype: int64"
      ]
     },
     "execution_count": 11,
     "metadata": {},
     "output_type": "execute_result"
    }
   ],
   "source": [
    "# Make a copy for parsing\n",
    "question_data = bank.copy()\n",
    "# Check if the data set contains any null values\n",
    "#question_data[question_data.isnull().any(axis=1)].count()\n",
    "question_data['class'] = question_data['class'].map( {'Vata':0, 'Kapha':1,'Pitta':2} )\n",
    "# Convert categorical variables to dummies\n",
    "question_data_original=question_data\n",
    "question_data_class=question_data['class']\n",
    "question_data.drop('class', axis=1, inplace=True)\n",
    "question_data.drop('SampleIdx', axis=1, inplace=True)\n",
    "\n",
    "#print(test_final.shape)\n",
    "question_with_dummies = pd.get_dummies(data=question_data)\n",
    "#question_with_dummies2 = pd.get_dummies(data=test_final)\n",
    "question_with_dummies.head()\n",
    "question_data_class.head()"
   ]
  },
  {
   "cell_type": "code",
   "execution_count": 4,
   "metadata": {},
   "outputs": [],
   "source": [
    "X_train=question_with_dummies[:131]\n",
    "y_train=question_data_class[:131]\n",
    "X_test=question_with_dummies[132:]\n",
    "y_test=question_data_class[132:]"
   ]
  },
  {
   "cell_type": "code",
   "execution_count": 5,
   "metadata": {},
   "outputs": [],
   "source": [
    "#from sklearn.cross_validation import train_test_split\n",
    "from sklearn import neighbors\n",
    "from sklearn.model_selection import cross_val_score"
   ]
  },
  {
   "cell_type": "code",
   "execution_count": 6,
   "metadata": {},
   "outputs": [
    {
     "name": "stdout",
     "output_type": "stream",
     "text": [
      "[0.933 0.933 0.8   0.8   0.8   0.8   0.8   0.8   0.8   0.8   0.8   0.8\n",
      " 0.8   0.8   0.8   0.8   0.8   0.8   0.8   0.8   0.8   0.8   0.8   0.8\n",
      " 0.8   0.8   0.8   0.8   0.8  ]\n"
     ]
    },
    {
     "data": {
      "image/png": "[encoded data removed]",
      "text/plain": [
       "<Figure size 432x288 with 1 Axes>"
      ]
     },
     "metadata": {
      "needs_background": "light"
     },
     "output_type": "display_data"
    }
   ],
   "source": [
    "k_range=list(range(1,30))\n",
    "k_scores=[]\n",
    "for k in k_range:\n",
    "    clf = neighbors.KNeighborsClassifier(k, weights='distance')\n",
    "    clf.fit(X_train, y_train)\n",
    "    #scores=cross_val_score(clf, X_test, y_test, cv=2)\n",
    "    scores=clf.score(X_test, y_test)\n",
    "    k_scores.append(scores.mean())\n",
    "    #scores=clf.score(X_test, y_test)\n",
    "  # print(scores)\n",
    "    #k_scores.append(scores)\n",
    "print(np.round(k_scores,3)) # to display scores to 3 decimal places\n",
    "from matplotlib import pyplot as plt\n",
    "plt.plot(k_range,k_scores,color=\"blue\")\n",
    "plt.xlabel('k values')\n",
    "plt.ylabel('cross-validation score')\n",
    "fig1 = plt.gcf()\n",
    "plt.draw()\n",
    "plt.show()\n",
    "fig1.savefig('knn1_k.png',dpi=200)"
   ]
  },
  {
   "cell_type": "code",
   "execution_count": 7,
   "metadata": {},
   "outputs": [
    {
     "name": "stdout",
     "output_type": "stream",
     "text": [
      "              precision    recall  f1-score   support\n",
      "\n",
      "           0       1.00      0.70      0.82        10\n",
      "           1       1.00      1.00      1.00         3\n",
      "           2       0.40      1.00      0.57         2\n",
      "\n",
      "    accuracy                           0.80        15\n",
      "   macro avg       0.80      0.90      0.80        15\n",
      "weighted avg       0.92      0.80      0.83        15\n",
      "\n"
     ]
    }
   ],
   "source": [
    "from sklearn import neighbors\n",
    "n_neighbors=3\n",
    "clf = neighbors.KNeighborsClassifier(n_neighbors, weights='distance')\n",
    "clf.fit(X_train, y_train)\n",
    "\n",
    "#predict\n",
    "y_pred = clf.predict(X_test)  \n",
    "## See how the model performs on the test data.\n",
    "clf.score(X_test, y_test)\n",
    "from sklearn.metrics import classification_report, confusion_matrix  \n",
    "print(classification_report(y_test, y_pred))"
   ]
  },
  {
   "cell_type": "code",
   "execution_count": 8,
   "metadata": {},
   "outputs": [
    {
     "data": {
      "image/png": "[encoded data removed]",
      "text/plain": [
       "<Figure size 432x360 with 2 Axes>"
      ]
     },
     "metadata": {
      "needs_background": "light"
     },
     "output_type": "display_data"
    },
    {
     "data": {
      "text/plain": [
       "<Figure size 432x288 with 0 Axes>"
      ]
     },
     "metadata": {},
     "output_type": "display_data"
    }
   ],
   "source": [
    "import seaborn as sn\n",
    "import pandas as pd\n",
    "import matplotlib.pyplot as plt\n",
    "array = confusion_matrix(y_test, y_pred)\n",
    "df_cm = pd.DataFrame(array, index = [i for i in \"VKP\"],\n",
    "                  columns = [i for i in \"VKP\"])\n",
    "g=plt.figure(figsize = (6,5))\n",
    "sn.heatmap(df_cm, annot=True)\n",
    "plt.show()\n",
    "fig1 = plt.gcf()\n",
    "plt.draw()\n",
    "plt.show()\n",
    "fig1.savefig('knn1_k.png',dpi=200)"
   ]
  },
  {
   "cell_type": "code",
   "execution_count": null,
   "metadata": {},
   "outputs": [],
   "source": []
  }
 ],
 "metadata": {
  "kernelspec": {
   "display_name": "Python 3",
   "language": "python",
   "name": "python3"
  },
  "language_info": {
   "codemirror_mode": {
    "name": "ipython",
    "version": 3
   },
   "file_extension": ".py",
   "mimetype": "text/x-python",
   "name": "python",
   "nbconvert_exporter": "python",
   "pygments_lexer": "ipython3",
   "version": "3.8.5"
  }
 },
 "nbformat": 4,
 "nbformat_minor": 2
}
